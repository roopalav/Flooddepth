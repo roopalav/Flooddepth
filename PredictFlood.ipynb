{
  "nbformat": 4,
  "nbformat_minor": 0,
  "metadata": {
    "colab": {
      "name": "PredictFlood.ipynb",
      "provenance": [],
      "collapsed_sections": []
    },
    "kernelspec": {
      "name": "python3",
      "display_name": "Python 3"
    },
    "language_info": {
      "name": "python"
    },
    "widgets": {
      "application/vnd.jupyter.widget-state+json": {
        "f30a41f4521c49bf97b85adccea32229": {
          "model_module": "@jupyter-widgets/controls",
          "model_name": "VBoxModel",
          "model_module_version": "1.5.0",
          "state": {
            "_view_name": "VBoxView",
            "_dom_classes": [],
            "_model_name": "VBoxModel",
            "_view_module": "@jupyter-widgets/controls",
            "_model_module_version": "1.5.0",
            "_view_count": null,
            "_view_module_version": "1.5.0",
            "box_style": "",
            "layout": "IPY_MODEL_7a9b350cc7814811be3a5145095963e2",
            "_model_module": "@jupyter-widgets/controls",
            "children": [
              "IPY_MODEL_e346debf53a04be9bb764efb03beee7d",
              "IPY_MODEL_22f1cb4f729d493db2c91cedde3d94ac",
              "IPY_MODEL_1b9d106558f84c88b48ce5bac8257037",
              "IPY_MODEL_577fe6e247c849be9db0c4f3047e8797",
              "IPY_MODEL_5a4da6da0da54752ba29bfa2fb7c8177"
            ]
          }
        },
        "7a9b350cc7814811be3a5145095963e2": {
          "model_module": "@jupyter-widgets/base",
          "model_name": "LayoutModel",
          "model_module_version": "1.2.0",
          "state": {
            "_view_name": "LayoutView",
            "grid_template_rows": null,
            "right": null,
            "justify_content": null,
            "_view_module": "@jupyter-widgets/base",
            "overflow": null,
            "_model_module_version": "1.2.0",
            "_view_count": null,
            "flex_flow": null,
            "width": null,
            "min_width": null,
            "border": null,
            "align_items": null,
            "bottom": null,
            "_model_module": "@jupyter-widgets/base",
            "top": null,
            "grid_column": null,
            "overflow_y": null,
            "overflow_x": null,
            "grid_auto_flow": null,
            "grid_area": null,
            "grid_template_columns": null,
            "flex": null,
            "_model_name": "LayoutModel",
            "justify_items": null,
            "grid_row": null,
            "max_height": null,
            "align_content": null,
            "visibility": null,
            "align_self": null,
            "height": null,
            "min_height": null,
            "padding": null,
            "grid_auto_rows": null,
            "grid_gap": null,
            "max_width": null,
            "order": null,
            "_view_module_version": "1.2.0",
            "grid_template_areas": null,
            "object_position": null,
            "object_fit": null,
            "grid_auto_columns": null,
            "margin": null,
            "display": null,
            "left": null
          }
        },
        "e346debf53a04be9bb764efb03beee7d": {
          "model_module": "@jupyter-widgets/controls",
          "model_name": "LabelModel",
          "model_module_version": "1.5.0",
          "state": {
            "_view_name": "LabelView",
            "style": "IPY_MODEL_c67fb5fdb11a45599274303ebd89e794",
            "_dom_classes": [],
            "description": "",
            "_model_name": "LabelModel",
            "placeholder": "​",
            "_view_module": "@jupyter-widgets/controls",
            "_model_module_version": "1.5.0",
            "value": "Select an image:",
            "_view_count": null,
            "_view_module_version": "1.5.0",
            "description_tooltip": null,
            "_model_module": "@jupyter-widgets/controls",
            "layout": "IPY_MODEL_a766a29075fe49298ebb8d87986444a5"
          }
        },
        "22f1cb4f729d493db2c91cedde3d94ac": {
          "model_module": "@jupyter-widgets/controls",
          "model_name": "FileUploadModel",
          "model_module_version": "1.5.0",
          "state": {
            "_view_name": "FileUploadView",
            "_counter": 1,
            "style": "IPY_MODEL_595f4a81898d4d548de673d041a241cc",
            "_dom_classes": [],
            "description": "Upload",
            "multiple": false,
            "_model_name": "FileUploadModel",
            "data": [
              null
            ],
            "button_style": "",
            "_view_module": "@jupyter-widgets/controls",
            "_model_module_version": "1.5.0",
            "accept": "",
            "_view_count": null,
            "disabled": false,
            "_view_module_version": "1.5.0",
            "error": "",
            "description_tooltip": null,
            "metadata": [
              {
                "name": "img2.jpg",
                "type": "image/jpeg",
                "size": 25617,
                "lastModified": 1638635494950
              }
            ],
            "_model_module": "@jupyter-widgets/controls",
            "layout": "IPY_MODEL_bd56ab67ef51497db7e1c077748c14d9",
            "icon": "upload"
          }
        },
        "1b9d106558f84c88b48ce5bac8257037": {
          "model_module": "@jupyter-widgets/controls",
          "model_name": "ButtonModel",
          "model_module_version": "1.5.0",
          "state": {
            "_view_name": "ButtonView",
            "style": "IPY_MODEL_fc00aa09116f48c08d0feb810362539a",
            "_dom_classes": [],
            "description": "Classify",
            "_model_name": "ButtonModel",
            "button_style": "",
            "_view_module": "@jupyter-widgets/controls",
            "_model_module_version": "1.5.0",
            "tooltip": "",
            "_view_count": null,
            "disabled": false,
            "_view_module_version": "1.5.0",
            "layout": "IPY_MODEL_cb3aecb2fc5347d499eb2653ada70a41",
            "_model_module": "@jupyter-widgets/controls",
            "icon": ""
          }
        },
        "577fe6e247c849be9db0c4f3047e8797": {
          "model_module": "@jupyter-widgets/output",
          "model_name": "OutputModel",
          "model_module_version": "1.0.0",
          "state": {
            "_view_name": "OutputView",
            "msg_id": "",
            "_dom_classes": [],
            "_model_name": "OutputModel",
            "outputs": [
              {
                "output_type": "display_data",
                "data": {
                  "image/png": "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\n",
                  "text/plain": "<PIL.Image.Image image mode=RGB size=224x155 at 0x7FA59019E350>"
                },
                "metadata": {}
              }
            ],
            "_view_module": "@jupyter-widgets/output",
            "_model_module_version": "1.0.0",
            "_view_count": null,
            "_view_module_version": "1.0.0",
            "layout": "IPY_MODEL_1d75e069291942c1ac58bc2297d04861",
            "_model_module": "@jupyter-widgets/output"
          }
        },
        "5a4da6da0da54752ba29bfa2fb7c8177": {
          "model_module": "@jupyter-widgets/controls",
          "model_name": "LabelModel",
          "model_module_version": "1.5.0",
          "state": {
            "_view_name": "LabelView",
            "style": "IPY_MODEL_4cb6962d354d42338d1b1aaf42a04013",
            "_dom_classes": [],
            "description": "",
            "_model_name": "LabelModel",
            "placeholder": "​",
            "_view_module": "@jupyter-widgets/controls",
            "_model_module_version": "1.5.0",
            "value": "prediction:1-2,Probability:0.7094",
            "_view_count": null,
            "_view_module_version": "1.5.0",
            "description_tooltip": null,
            "_model_module": "@jupyter-widgets/controls",
            "layout": "IPY_MODEL_f34fa936813647c7abd74a61b749622e"
          }
        },
        "c67fb5fdb11a45599274303ebd89e794": {
          "model_module": "@jupyter-widgets/controls",
          "model_name": "DescriptionStyleModel",
          "model_module_version": "1.5.0",
          "state": {
            "_view_name": "StyleView",
            "_model_name": "DescriptionStyleModel",
            "description_width": "",
            "_view_module": "@jupyter-widgets/base",
            "_model_module_version": "1.5.0",
            "_view_count": null,
            "_view_module_version": "1.2.0",
            "_model_module": "@jupyter-widgets/controls"
          }
        },
        "a766a29075fe49298ebb8d87986444a5": {
          "model_module": "@jupyter-widgets/base",
          "model_name": "LayoutModel",
          "model_module_version": "1.2.0",
          "state": {
            "_view_name": "LayoutView",
            "grid_template_rows": null,
            "right": null,
            "justify_content": null,
            "_view_module": "@jupyter-widgets/base",
            "overflow": null,
            "_model_module_version": "1.2.0",
            "_view_count": null,
            "flex_flow": null,
            "width": null,
            "min_width": null,
            "border": null,
            "align_items": null,
            "bottom": null,
            "_model_module": "@jupyter-widgets/base",
            "top": null,
            "grid_column": null,
            "overflow_y": null,
            "overflow_x": null,
            "grid_auto_flow": null,
            "grid_area": null,
            "grid_template_columns": null,
            "flex": null,
            "_model_name": "LayoutModel",
            "justify_items": null,
            "grid_row": null,
            "max_height": null,
            "align_content": null,
            "visibility": null,
            "align_self": null,
            "height": null,
            "min_height": null,
            "padding": null,
            "grid_auto_rows": null,
            "grid_gap": null,
            "max_width": null,
            "order": null,
            "_view_module_version": "1.2.0",
            "grid_template_areas": null,
            "object_position": null,
            "object_fit": null,
            "grid_auto_columns": null,
            "margin": null,
            "display": null,
            "left": null
          }
        },
        "595f4a81898d4d548de673d041a241cc": {
          "model_module": "@jupyter-widgets/controls",
          "model_name": "ButtonStyleModel",
          "model_module_version": "1.5.0",
          "state": {
            "_view_name": "StyleView",
            "_model_name": "ButtonStyleModel",
            "_view_module": "@jupyter-widgets/base",
            "_model_module_version": "1.5.0",
            "_view_count": null,
            "button_color": null,
            "font_weight": "",
            "_view_module_version": "1.2.0",
            "_model_module": "@jupyter-widgets/controls"
          }
        },
        "bd56ab67ef51497db7e1c077748c14d9": {
          "model_module": "@jupyter-widgets/base",
          "model_name": "LayoutModel",
          "model_module_version": "1.2.0",
          "state": {
            "_view_name": "LayoutView",
            "grid_template_rows": null,
            "right": null,
            "justify_content": null,
            "_view_module": "@jupyter-widgets/base",
            "overflow": null,
            "_model_module_version": "1.2.0",
            "_view_count": null,
            "flex_flow": null,
            "width": null,
            "min_width": null,
            "border": null,
            "align_items": null,
            "bottom": null,
            "_model_module": "@jupyter-widgets/base",
            "top": null,
            "grid_column": null,
            "overflow_y": null,
            "overflow_x": null,
            "grid_auto_flow": null,
            "grid_area": null,
            "grid_template_columns": null,
            "flex": null,
            "_model_name": "LayoutModel",
            "justify_items": null,
            "grid_row": null,
            "max_height": null,
            "align_content": null,
            "visibility": null,
            "align_self": null,
            "height": null,
            "min_height": null,
            "padding": null,
            "grid_auto_rows": null,
            "grid_gap": null,
            "max_width": null,
            "order": null,
            "_view_module_version": "1.2.0",
            "grid_template_areas": null,
            "object_position": null,
            "object_fit": null,
            "grid_auto_columns": null,
            "margin": null,
            "display": null,
            "left": null
          }
        },
        "fc00aa09116f48c08d0feb810362539a": {
          "model_module": "@jupyter-widgets/controls",
          "model_name": "ButtonStyleModel",
          "model_module_version": "1.5.0",
          "state": {
            "_view_name": "StyleView",
            "_model_name": "ButtonStyleModel",
            "_view_module": "@jupyter-widgets/base",
            "_model_module_version": "1.5.0",
            "_view_count": null,
            "button_color": null,
            "font_weight": "",
            "_view_module_version": "1.2.0",
            "_model_module": "@jupyter-widgets/controls"
          }
        },
        "cb3aecb2fc5347d499eb2653ada70a41": {
          "model_module": "@jupyter-widgets/base",
          "model_name": "LayoutModel",
          "model_module_version": "1.2.0",
          "state": {
            "_view_name": "LayoutView",
            "grid_template_rows": null,
            "right": null,
            "justify_content": null,
            "_view_module": "@jupyter-widgets/base",
            "overflow": null,
            "_model_module_version": "1.2.0",
            "_view_count": null,
            "flex_flow": null,
            "width": null,
            "min_width": null,
            "border": null,
            "align_items": null,
            "bottom": null,
            "_model_module": "@jupyter-widgets/base",
            "top": null,
            "grid_column": null,
            "overflow_y": null,
            "overflow_x": null,
            "grid_auto_flow": null,
            "grid_area": null,
            "grid_template_columns": null,
            "flex": null,
            "_model_name": "LayoutModel",
            "justify_items": null,
            "grid_row": null,
            "max_height": null,
            "align_content": null,
            "visibility": null,
            "align_self": null,
            "height": null,
            "min_height": null,
            "padding": null,
            "grid_auto_rows": null,
            "grid_gap": null,
            "max_width": null,
            "order": null,
            "_view_module_version": "1.2.0",
            "grid_template_areas": null,
            "object_position": null,
            "object_fit": null,
            "grid_auto_columns": null,
            "margin": null,
            "display": null,
            "left": null
          }
        },
        "4cb6962d354d42338d1b1aaf42a04013": {
          "model_module": "@jupyter-widgets/controls",
          "model_name": "DescriptionStyleModel",
          "model_module_version": "1.5.0",
          "state": {
            "_view_name": "StyleView",
            "_model_name": "DescriptionStyleModel",
            "description_width": "",
            "_view_module": "@jupyter-widgets/base",
            "_model_module_version": "1.5.0",
            "_view_count": null,
            "_view_module_version": "1.2.0",
            "_model_module": "@jupyter-widgets/controls"
          }
        },
        "f34fa936813647c7abd74a61b749622e": {
          "model_module": "@jupyter-widgets/base",
          "model_name": "LayoutModel",
          "model_module_version": "1.2.0",
          "state": {
            "_view_name": "LayoutView",
            "grid_template_rows": null,
            "right": null,
            "justify_content": null,
            "_view_module": "@jupyter-widgets/base",
            "overflow": null,
            "_model_module_version": "1.2.0",
            "_view_count": null,
            "flex_flow": null,
            "width": null,
            "min_width": null,
            "border": null,
            "align_items": null,
            "bottom": null,
            "_model_module": "@jupyter-widgets/base",
            "top": null,
            "grid_column": null,
            "overflow_y": null,
            "overflow_x": null,
            "grid_auto_flow": null,
            "grid_area": null,
            "grid_template_columns": null,
            "flex": null,
            "_model_name": "LayoutModel",
            "justify_items": null,
            "grid_row": null,
            "max_height": null,
            "align_content": null,
            "visibility": null,
            "align_self": null,
            "height": null,
            "min_height": null,
            "padding": null,
            "grid_auto_rows": null,
            "grid_gap": null,
            "max_width": null,
            "order": null,
            "_view_module_version": "1.2.0",
            "grid_template_areas": null,
            "object_position": null,
            "object_fit": null,
            "grid_auto_columns": null,
            "margin": null,
            "display": null,
            "left": null
          }
        },
        "1d75e069291942c1ac58bc2297d04861": {
          "model_module": "@jupyter-widgets/base",
          "model_name": "LayoutModel",
          "model_module_version": "1.2.0",
          "state": {
            "_view_name": "LayoutView",
            "grid_template_rows": null,
            "right": null,
            "justify_content": null,
            "_view_module": "@jupyter-widgets/base",
            "overflow": null,
            "_model_module_version": "1.2.0",
            "_view_count": null,
            "flex_flow": null,
            "width": null,
            "min_width": null,
            "border": null,
            "align_items": null,
            "bottom": null,
            "_model_module": "@jupyter-widgets/base",
            "top": null,
            "grid_column": null,
            "overflow_y": null,
            "overflow_x": null,
            "grid_auto_flow": null,
            "grid_area": null,
            "grid_template_columns": null,
            "flex": null,
            "_model_name": "LayoutModel",
            "justify_items": null,
            "grid_row": null,
            "max_height": null,
            "align_content": null,
            "visibility": null,
            "align_self": null,
            "height": null,
            "min_height": null,
            "padding": null,
            "grid_auto_rows": null,
            "grid_gap": null,
            "max_width": null,
            "order": null,
            "_view_module_version": "1.2.0",
            "grid_template_areas": null,
            "object_position": null,
            "object_fit": null,
            "grid_auto_columns": null,
            "margin": null,
            "display": null,
            "left": null
          }
        }
      }
    }
  },
  "cells": [
    {
      "cell_type": "code",
      "metadata": {
        "colab": {
          "base_uri": "https://localhost:8080/"
        },
        "id": "H5Mjm_ItIRUG",
        "outputId": "54ba41ed-da01-4753-8b28-bc0765243c6b"
      },
      "source": [
        "from google.colab import drive\n",
        "drive.mount('/content/drive')"
      ],
      "execution_count": 5,
      "outputs": [
        {
          "output_type": "stream",
          "name": "stdout",
          "text": [
            "Mounted at /content/drive\n"
          ]
        }
      ]
    },
    {
      "cell_type": "code",
      "metadata": {
        "colab": {
          "base_uri": "https://localhost:8080/"
        },
        "id": "I71tzcNUE1VA",
        "outputId": "ae98da97-d094-4de3-cef0-3eb0434671e4"
      },
      "source": [
        "!pip install viola"
      ],
      "execution_count": 1,
      "outputs": [
        {
          "output_type": "stream",
          "name": "stdout",
          "text": [
            "Collecting viola\n",
            "  Downloading viola-0.3.8-py3-none-any.whl (14 kB)\n",
            "Installing collected packages: viola\n",
            "Successfully installed viola-0.3.8\n"
          ]
        }
      ]
    },
    {
      "cell_type": "code",
      "metadata": {
        "id": "AVWziwnTI3mc"
      },
      "source": [
        "from fastai.vision.all import *"
      ],
      "execution_count": 7,
      "outputs": []
    },
    {
      "cell_type": "code",
      "metadata": {
        "colab": {
          "base_uri": "https://localhost:8080/"
        },
        "id": "eEL7SLUcE6BR",
        "outputId": "f9cd7bd8-ed6a-4456-da7d-2ccce029edde"
      },
      "source": [
        "!pip install -Uqq fastbook\n",
        "import fastbook\n",
        "fastbook.setup_book()"
      ],
      "execution_count": 2,
      "outputs": [
        {
          "output_type": "stream",
          "name": "stdout",
          "text": [
            "\u001b[K     |████████████████████████████████| 720 kB 34.1 MB/s \n",
            "\u001b[K     |████████████████████████████████| 189 kB 53.3 MB/s \n",
            "\u001b[K     |████████████████████████████████| 1.2 MB 30.9 MB/s \n",
            "\u001b[K     |████████████████████████████████| 46 kB 3.2 MB/s \n",
            "\u001b[K     |████████████████████████████████| 56 kB 4.9 MB/s \n",
            "\u001b[K     |████████████████████████████████| 51 kB 282 kB/s \n",
            "\u001b[?25hMounted at /content/gdrive\n"
          ]
        }
      ]
    },
    {
      "cell_type": "code",
      "metadata": {
        "id": "4tzbjSAFE87r"
      },
      "source": [
        "from fastbook import *\n",
        "from fastai.vision.widgets import *\n",
        "from IPython.display import display, Image"
      ],
      "execution_count": 3,
      "outputs": []
    },
    {
      "cell_type": "code",
      "metadata": {
        "id": "oQMhXnbTJXZB"
      },
      "source": [
        "def split_func(m): return L(m[0], m[1]).map(params)"
      ],
      "execution_count": 9,
      "outputs": []
    },
    {
      "cell_type": "code",
      "metadata": {
        "id": "ES8jlrd2GKRu"
      },
      "source": [
        "learn = load_learner('/content/drive/MyDrive/models/final.pkl')"
      ],
      "execution_count": 10,
      "outputs": []
    },
    {
      "cell_type": "code",
      "metadata": {
        "id": "-SMZ2UjeGEMh"
      },
      "source": [
        "btn_upload=widgets.FileUpload()\n",
        "btn_run=widgets.Button(description=\"Classify\")\n",
        "out_pl=widgets.Output()\n",
        "lbl_pred=widgets.Label()\n",
        "def on_click_classify(change):\n",
        "    img=PILImage.create(btn_upload.data[-1])\n",
        "    out_pl.clear_output()\n",
        "    with out_pl:display(img.to_thumb(224,224))\n",
        "    pred,pred_idx,probs=learn.predict(img)\n",
        "    lbl_pred.value=f'prediction:{pred},Probability:{probs[pred_idx]:0.4f}'\n",
        "btn_run.on_click(on_click_classify)"
      ],
      "execution_count": 11,
      "outputs": []
    },
    {
      "cell_type": "code",
      "metadata": {
        "colab": {
          "base_uri": "https://localhost:8080/",
          "height": 300,
          "referenced_widgets": [
            "f30a41f4521c49bf97b85adccea32229",
            "7a9b350cc7814811be3a5145095963e2",
            "e346debf53a04be9bb764efb03beee7d",
            "22f1cb4f729d493db2c91cedde3d94ac",
            "1b9d106558f84c88b48ce5bac8257037",
            "577fe6e247c849be9db0c4f3047e8797",
            "5a4da6da0da54752ba29bfa2fb7c8177",
            "c67fb5fdb11a45599274303ebd89e794",
            "a766a29075fe49298ebb8d87986444a5",
            "595f4a81898d4d548de673d041a241cc",
            "bd56ab67ef51497db7e1c077748c14d9",
            "fc00aa09116f48c08d0feb810362539a",
            "cb3aecb2fc5347d499eb2653ada70a41",
            "4cb6962d354d42338d1b1aaf42a04013",
            "f34fa936813647c7abd74a61b749622e",
            "1d75e069291942c1ac58bc2297d04861"
          ]
        },
        "id": "CjQ5MGyAGE4p",
        "outputId": "ae7336d4-e466-4726-d2bf-c96b2e6b8256"
      },
      "source": [
        "VBox([widgets.Label('Select an image:'),btn_upload,btn_run,out_pl,lbl_pred])"
      ],
      "execution_count": 12,
      "outputs": [
        {
          "output_type": "display_data",
          "data": {
            "application/vnd.jupyter.widget-view+json": {
              "model_id": "f30a41f4521c49bf97b85adccea32229",
              "version_minor": 0,
              "version_major": 2
            },
            "text/plain": [
              "VBox(children=(Label(value='Select an image:'), FileUpload(value={}, description='Upload'), Button(description…"
            ]
          },
          "metadata": {}
        },
        {
          "output_type": "display_data",
          "data": {
            "text/html": [
              ""
            ],
            "text/plain": [
              "<IPython.core.display.HTML object>"
            ]
          },
          "metadata": {}
        }
      ]
    }
  ]
}