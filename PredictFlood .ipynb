{
  "nbformat": 4,
  "nbformat_minor": 0,
  "metadata": {
    "colab": {
      "name": "PredictFlood.ipynb",
      "provenance": [],
      "collapsed_sections": []
    },
    "kernelspec": {
      "name": "python3",
      "display_name": "Python 3"
    },
    "language_info": {
      "name": "python"
    },
    "widgets": {
      "application/vnd.jupyter.widget-state+json": {
        "babcf034f4a04d4bb9a8361de964576a": {
          "model_module": "@jupyter-widgets/controls",
          "model_name": "VBoxModel",
          "model_module_version": "1.5.0",
          "state": {
            "_view_name": "VBoxView",
            "_dom_classes": [],
            "_model_name": "VBoxModel",
            "_view_module": "@jupyter-widgets/controls",
            "_model_module_version": "1.5.0",
            "_view_count": null,
            "_view_module_version": "1.5.0",
            "box_style": "",
            "layout": "IPY_MODEL_1749a57cd1634cd9add57d9effbd7725",
            "_model_module": "@jupyter-widgets/controls",
            "children": [
              "IPY_MODEL_c25e173a04844f2aa632a0e33ac94c75",
              "IPY_MODEL_7085004039594841ae7123f1f8751eaf",
              "IPY_MODEL_1960295f9fb44599b894d17805733315",
              "IPY_MODEL_5ed04d58b7d3442588e6197f2538b362",
              "IPY_MODEL_f8c44ee1317743bea8fba15784ce9def"
            ]
          }
        },
        "1749a57cd1634cd9add57d9effbd7725": {
          "model_module": "@jupyter-widgets/base",
          "model_name": "LayoutModel",
          "model_module_version": "1.2.0",
          "state": {
            "_view_name": "LayoutView",
            "grid_template_rows": null,
            "right": null,
            "justify_content": null,
            "_view_module": "@jupyter-widgets/base",
            "overflow": null,
            "_model_module_version": "1.2.0",
            "_view_count": null,
            "flex_flow": null,
            "width": null,
            "min_width": null,
            "border": null,
            "align_items": null,
            "bottom": null,
            "_model_module": "@jupyter-widgets/base",
            "top": null,
            "grid_column": null,
            "overflow_y": null,
            "overflow_x": null,
            "grid_auto_flow": null,
            "grid_area": null,
            "grid_template_columns": null,
            "flex": null,
            "_model_name": "LayoutModel",
            "justify_items": null,
            "grid_row": null,
            "max_height": null,
            "align_content": null,
            "visibility": null,
            "align_self": null,
            "height": null,
            "min_height": null,
            "padding": null,
            "grid_auto_rows": null,
            "grid_gap": null,
            "max_width": null,
            "order": null,
            "_view_module_version": "1.2.0",
            "grid_template_areas": null,
            "object_position": null,
            "object_fit": null,
            "grid_auto_columns": null,
            "margin": null,
            "display": null,
            "left": null
          }
        },
        "c25e173a04844f2aa632a0e33ac94c75": {
          "model_module": "@jupyter-widgets/controls",
          "model_name": "LabelModel",
          "model_module_version": "1.5.0",
          "state": {
            "_view_name": "LabelView",
            "style": "IPY_MODEL_c373bf2e52934c699df61de3522a46d1",
            "_dom_classes": [],
            "description": "",
            "_model_name": "LabelModel",
            "placeholder": "​",
            "_view_module": "@jupyter-widgets/controls",
            "_model_module_version": "1.5.0",
            "value": "Select an image:",
            "_view_count": null,
            "_view_module_version": "1.5.0",
            "description_tooltip": null,
            "_model_module": "@jupyter-widgets/controls",
            "layout": "IPY_MODEL_a2ca18b393d544499b48591cae5620d8"
          }
        },
        "7085004039594841ae7123f1f8751eaf": {
          "model_module": "@jupyter-widgets/controls",
          "model_name": "FileUploadModel",
          "model_module_version": "1.5.0",
          "state": {
            "_view_name": "FileUploadView",
            "_counter": 9,
            "style": "IPY_MODEL_5c1dcfadcada445e82b65f29d7bf4696",
            "_dom_classes": [],
            "description": "Upload",
            "multiple": false,
            "_model_name": "FileUploadModel",
            "data": [
              null
            ],
            "button_style": "",
            "_view_module": "@jupyter-widgets/controls",
            "_model_module_version": "1.5.0",
            "accept": "",
            "_view_count": null,
            "disabled": false,
            "_view_module_version": "1.5.0",
            "error": "",
            "description_tooltip": null,
            "metadata": [
              {
                "name": "LCBT6829.JPG",
                "type": "image/jpeg",
                "size": 174663,
                "lastModified": 1636271362000
              }
            ],
            "_model_module": "@jupyter-widgets/controls",
            "layout": "IPY_MODEL_3fbc09d9dde2483496380db6aaee82c4",
            "icon": "upload"
          }
        },
        "1960295f9fb44599b894d17805733315": {
          "model_module": "@jupyter-widgets/controls",
          "model_name": "ButtonModel",
          "model_module_version": "1.5.0",
          "state": {
            "_view_name": "ButtonView",
            "style": "IPY_MODEL_d5ee72999dbd4b48bc165132373319d0",
            "_dom_classes": [],
            "description": "Classify",
            "_model_name": "ButtonModel",
            "button_style": "",
            "_view_module": "@jupyter-widgets/controls",
            "_model_module_version": "1.5.0",
            "tooltip": "",
            "_view_count": null,
            "disabled": false,
            "_view_module_version": "1.5.0",
            "layout": "IPY_MODEL_093518833f2b469e9b19455d9798ec7e",
            "_model_module": "@jupyter-widgets/controls",
            "icon": ""
          }
        },
        "5ed04d58b7d3442588e6197f2538b362": {
          "model_module": "@jupyter-widgets/output",
          "model_name": "OutputModel",
          "model_module_version": "1.0.0",
          "state": {
            "_view_name": "OutputView",
            "msg_id": "",
            "_dom_classes": [],
            "_model_name": "OutputModel",
            "outputs": [
              {
                "output_type": "display_data",
                "data": {
                  "image/png": "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\n",
                  "text/plain": "<PIL.Image.Image image mode=RGB size=126x224 at 0x7FA59006D0D0>"
                },
                "metadata": {}
              }
            ],
            "_view_module": "@jupyter-widgets/output",
            "_model_module_version": "1.0.0",
            "_view_count": null,
            "_view_module_version": "1.0.0",
            "layout": "IPY_MODEL_74a4f17513e84f908084c85bfe70bf19",
            "_model_module": "@jupyter-widgets/output"
          }
        },
        "f8c44ee1317743bea8fba15784ce9def": {
          "model_module": "@jupyter-widgets/controls",
          "model_name": "LabelModel",
          "model_module_version": "1.5.0",
          "state": {
            "_view_name": "LabelView",
            "style": "IPY_MODEL_f059dff5fee54834bd50251558e5fa56",
            "_dom_classes": [],
            "description": "",
            "_model_name": "LabelModel",
            "placeholder": "​",
            "_view_module": "@jupyter-widgets/controls",
            "_model_module_version": "1.5.0",
            "value": "Flood Depth:2-3,\n Probability:0.5406",
            "_view_count": null,
            "_view_module_version": "1.5.0",
            "description_tooltip": null,
            "_model_module": "@jupyter-widgets/controls",
            "layout": "IPY_MODEL_42d479467a924cd0911a9d68fe653eae"
          }
        },
        "c373bf2e52934c699df61de3522a46d1": {
          "model_module": "@jupyter-widgets/controls",
          "model_name": "DescriptionStyleModel",
          "model_module_version": "1.5.0",
          "state": {
            "_view_name": "StyleView",
            "_model_name": "DescriptionStyleModel",
            "description_width": "",
            "_view_module": "@jupyter-widgets/base",
            "_model_module_version": "1.5.0",
            "_view_count": null,
            "_view_module_version": "1.2.0",
            "_model_module": "@jupyter-widgets/controls"
          }
        },
        "a2ca18b393d544499b48591cae5620d8": {
          "model_module": "@jupyter-widgets/base",
          "model_name": "LayoutModel",
          "model_module_version": "1.2.0",
          "state": {
            "_view_name": "LayoutView",
            "grid_template_rows": null,
            "right": null,
            "justify_content": null,
            "_view_module": "@jupyter-widgets/base",
            "overflow": null,
            "_model_module_version": "1.2.0",
            "_view_count": null,
            "flex_flow": null,
            "width": null,
            "min_width": null,
            "border": null,
            "align_items": null,
            "bottom": null,
            "_model_module": "@jupyter-widgets/base",
            "top": null,
            "grid_column": null,
            "overflow_y": null,
            "overflow_x": null,
            "grid_auto_flow": null,
            "grid_area": null,
            "grid_template_columns": null,
            "flex": null,
            "_model_name": "LayoutModel",
            "justify_items": null,
            "grid_row": null,
            "max_height": null,
            "align_content": null,
            "visibility": null,
            "align_self": null,
            "height": null,
            "min_height": null,
            "padding": null,
            "grid_auto_rows": null,
            "grid_gap": null,
            "max_width": null,
            "order": null,
            "_view_module_version": "1.2.0",
            "grid_template_areas": null,
            "object_position": null,
            "object_fit": null,
            "grid_auto_columns": null,
            "margin": null,
            "display": null,
            "left": null
          }
        },
        "5c1dcfadcada445e82b65f29d7bf4696": {
          "model_module": "@jupyter-widgets/controls",
          "model_name": "ButtonStyleModel",
          "model_module_version": "1.5.0",
          "state": {
            "_view_name": "StyleView",
            "_model_name": "ButtonStyleModel",
            "_view_module": "@jupyter-widgets/base",
            "_model_module_version": "1.5.0",
            "_view_count": null,
            "button_color": null,
            "font_weight": "",
            "_view_module_version": "1.2.0",
            "_model_module": "@jupyter-widgets/controls"
          }
        },
        "3fbc09d9dde2483496380db6aaee82c4": {
          "model_module": "@jupyter-widgets/base",
          "model_name": "LayoutModel",
          "model_module_version": "1.2.0",
          "state": {
            "_view_name": "LayoutView",
            "grid_template_rows": null,
            "right": null,
            "justify_content": null,
            "_view_module": "@jupyter-widgets/base",
            "overflow": null,
            "_model_module_version": "1.2.0",
            "_view_count": null,
            "flex_flow": null,
            "width": null,
            "min_width": null,
            "border": null,
            "align_items": null,
            "bottom": null,
            "_model_module": "@jupyter-widgets/base",
            "top": null,
            "grid_column": null,
            "overflow_y": null,
            "overflow_x": null,
            "grid_auto_flow": null,
            "grid_area": null,
            "grid_template_columns": null,
            "flex": null,
            "_model_name": "LayoutModel",
            "justify_items": null,
            "grid_row": null,
            "max_height": null,
            "align_content": null,
            "visibility": null,
            "align_self": null,
            "height": null,
            "min_height": null,
            "padding": null,
            "grid_auto_rows": null,
            "grid_gap": null,
            "max_width": null,
            "order": null,
            "_view_module_version": "1.2.0",
            "grid_template_areas": null,
            "object_position": null,
            "object_fit": null,
            "grid_auto_columns": null,
            "margin": null,
            "display": null,
            "left": null
          }
        },
        "d5ee72999dbd4b48bc165132373319d0": {
          "model_module": "@jupyter-widgets/controls",
          "model_name": "ButtonStyleModel",
          "model_module_version": "1.5.0",
          "state": {
            "_view_name": "StyleView",
            "_model_name": "ButtonStyleModel",
            "_view_module": "@jupyter-widgets/base",
            "_model_module_version": "1.5.0",
            "_view_count": null,
            "button_color": null,
            "font_weight": "",
            "_view_module_version": "1.2.0",
            "_model_module": "@jupyter-widgets/controls"
          }
        },
        "093518833f2b469e9b19455d9798ec7e": {
          "model_module": "@jupyter-widgets/base",
          "model_name": "LayoutModel",
          "model_module_version": "1.2.0",
          "state": {
            "_view_name": "LayoutView",
            "grid_template_rows": null,
            "right": null,
            "justify_content": null,
            "_view_module": "@jupyter-widgets/base",
            "overflow": null,
            "_model_module_version": "1.2.0",
            "_view_count": null,
            "flex_flow": null,
            "width": null,
            "min_width": null,
            "border": null,
            "align_items": null,
            "bottom": null,
            "_model_module": "@jupyter-widgets/base",
            "top": null,
            "grid_column": null,
            "overflow_y": null,
            "overflow_x": null,
            "grid_auto_flow": null,
            "grid_area": null,
            "grid_template_columns": null,
            "flex": null,
            "_model_name": "LayoutModel",
            "justify_items": null,
            "grid_row": null,
            "max_height": null,
            "align_content": null,
            "visibility": null,
            "align_self": null,
            "height": null,
            "min_height": null,
            "padding": null,
            "grid_auto_rows": null,
            "grid_gap": null,
            "max_width": null,
            "order": null,
            "_view_module_version": "1.2.0",
            "grid_template_areas": null,
            "object_position": null,
            "object_fit": null,
            "grid_auto_columns": null,
            "margin": null,
            "display": null,
            "left": null
          }
        },
        "f059dff5fee54834bd50251558e5fa56": {
          "model_module": "@jupyter-widgets/controls",
          "model_name": "DescriptionStyleModel",
          "model_module_version": "1.5.0",
          "state": {
            "_view_name": "StyleView",
            "_model_name": "DescriptionStyleModel",
            "description_width": "",
            "_view_module": "@jupyter-widgets/base",
            "_model_module_version": "1.5.0",
            "_view_count": null,
            "_view_module_version": "1.2.0",
            "_model_module": "@jupyter-widgets/controls"
          }
        },
        "42d479467a924cd0911a9d68fe653eae": {
          "model_module": "@jupyter-widgets/base",
          "model_name": "LayoutModel",
          "model_module_version": "1.2.0",
          "state": {
            "_view_name": "LayoutView",
            "grid_template_rows": null,
            "right": null,
            "justify_content": null,
            "_view_module": "@jupyter-widgets/base",
            "overflow": null,
            "_model_module_version": "1.2.0",
            "_view_count": null,
            "flex_flow": null,
            "width": null,
            "min_width": null,
            "border": null,
            "align_items": null,
            "bottom": null,
            "_model_module": "@jupyter-widgets/base",
            "top": null,
            "grid_column": null,
            "overflow_y": null,
            "overflow_x": null,
            "grid_auto_flow": null,
            "grid_area": null,
            "grid_template_columns": null,
            "flex": null,
            "_model_name": "LayoutModel",
            "justify_items": null,
            "grid_row": null,
            "max_height": null,
            "align_content": null,
            "visibility": null,
            "align_self": null,
            "height": null,
            "min_height": null,
            "padding": null,
            "grid_auto_rows": null,
            "grid_gap": null,
            "max_width": null,
            "order": null,
            "_view_module_version": "1.2.0",
            "grid_template_areas": null,
            "object_position": null,
            "object_fit": null,
            "grid_auto_columns": null,
            "margin": null,
            "display": null,
            "left": null
          }
        },
        "74a4f17513e84f908084c85bfe70bf19": {
          "model_module": "@jupyter-widgets/base",
          "model_name": "LayoutModel",
          "model_module_version": "1.2.0",
          "state": {
            "_view_name": "LayoutView",
            "grid_template_rows": null,
            "right": null,
            "justify_content": null,
            "_view_module": "@jupyter-widgets/base",
            "overflow": null,
            "_model_module_version": "1.2.0",
            "_view_count": null,
            "flex_flow": null,
            "width": null,
            "min_width": null,
            "border": null,
            "align_items": null,
            "bottom": null,
            "_model_module": "@jupyter-widgets/base",
            "top": null,
            "grid_column": null,
            "overflow_y": null,
            "overflow_x": null,
            "grid_auto_flow": null,
            "grid_area": null,
            "grid_template_columns": null,
            "flex": null,
            "_model_name": "LayoutModel",
            "justify_items": null,
            "grid_row": null,
            "max_height": null,
            "align_content": null,
            "visibility": null,
            "align_self": null,
            "height": null,
            "min_height": null,
            "padding": null,
            "grid_auto_rows": null,
            "grid_gap": null,
            "max_width": null,
            "order": null,
            "_view_module_version": "1.2.0",
            "grid_template_areas": null,
            "object_position": null,
            "object_fit": null,
            "grid_auto_columns": null,
            "margin": null,
            "display": null,
            "left": null
          }
        }
      }
    }
  },
  "cells": [
    {
      "cell_type": "code",
      "metadata": {
        "colab": {
          "base_uri": "https://localhost:8080/"
        },
        "id": "H5Mjm_ItIRUG",
        "outputId": "54ba41ed-da01-4753-8b28-bc0765243c6b"
      },
      "source": [
        "# from google.colab import drive\n",
        "# drive.mount('/content/drive')"
      ],
      "execution_count": null,
      "outputs": [
        {
          "output_type": "stream",
          "name": "stdout",
          "text": [
            "Mounted at /content/drive\n"
          ]
        }
      ]
    },
    {
      "cell_type": "code",
      "metadata": {
        "colab": {
          "base_uri": "https://localhost:8080/"
        },
        "id": "I71tzcNUE1VA",
        "outputId": "ae98da97-d094-4de3-cef0-3eb0434671e4"
      },
      "source": [
        "!pip install viola"
      ],
      "execution_count": null,
      "outputs": [
        {
          "output_type": "stream",
          "name": "stdout",
          "text": [
            "Collecting viola\n",
            "  Downloading viola-0.3.8-py3-none-any.whl (14 kB)\n",
            "Installing collected packages: viola\n",
            "Successfully installed viola-0.3.8\n"
          ]
        }
      ]
    },
    {
      "cell_type": "code",
      "metadata": {
        "id": "AVWziwnTI3mc"
      },
      "source": [
        "from fastai.vision.all import *"
      ],
      "execution_count": null,
      "outputs": []
    },
    {
      "cell_type": "code",
      "metadata": {
        "colab": {
          "base_uri": "https://localhost:8080/"
        },
        "id": "eEL7SLUcE6BR",
        "outputId": "f9cd7bd8-ed6a-4456-da7d-2ccce029edde"
      },
      "source": [
        "!pip install -Uqq fastbook\n",
        "import fastbook\n",
        "fastbook.setup_book()"
      ],
      "execution_count": null,
      "outputs": [
        {
          "output_type": "stream",
          "name": "stdout",
          "text": [
            "\u001b[K     |████████████████████████████████| 720 kB 34.1 MB/s \n",
            "\u001b[K     |████████████████████████████████| 189 kB 53.3 MB/s \n",
            "\u001b[K     |████████████████████████████████| 1.2 MB 30.9 MB/s \n",
            "\u001b[K     |████████████████████████████████| 46 kB 3.2 MB/s \n",
            "\u001b[K     |████████████████████████████████| 56 kB 4.9 MB/s \n",
            "\u001b[K     |████████████████████████████████| 51 kB 282 kB/s \n",
            "\u001b[?25hMounted at /content/gdrive\n"
          ]
        }
      ]
    },
    {
      "cell_type": "code",
      "metadata": {
        "id": "4tzbjSAFE87r"
      },
      "source": [
        "from fastbook import *\n",
        "from fastai.vision.widgets import *\n",
        "from IPython.display import display, Image"
      ],
      "execution_count": null,
      "outputs": []
    },
    {
      "cell_type": "code",
      "metadata": {
        "id": "oQMhXnbTJXZB"
      },
      "source": [
        "def split_func(m): return L(m[0], m[1]).map(params)"
      ],
      "execution_count": null,
      "outputs": []
    },
    {
      "cell_type": "code",
      "metadata": {
        "id": "ES8jlrd2GKRu"
      },
      "source": [
        "# learn = load_learner('assets/final.pkl')\n",
        "learn = load_learner('final.pkl')"
      ],
      "execution_count": null,
      "outputs": []
    },
    {
      "cell_type": "code",
      "metadata": {
        "id": "-SMZ2UjeGEMh"
      },
      "source": [
        "btn_upload=widgets.FileUpload()\n",
        "btn_run=widgets.Button(description=\"Classify\")\n",
        "out_pl=widgets.Output()\n",
        "lbl_pred=widgets.Label()\n",
        "def on_click_classify(change):\n",
        "    img=PILImage.create(btn_upload.data[-1])\n",
        "    out_pl.clear_output()\n",
        "    with out_pl:display(img.to_thumb(224,224))\n",
        "    pred,pred_idx,probs=learn.predict(img)\n",
        "    lbl_pred.value=f'Flood Depth:{pred},\\n Probability:{probs[pred_idx]:0.4f}'\n",
        "btn_run.on_click(on_click_classify)"
      ],
      "execution_count": null,
      "outputs": []
    },
    {
      "cell_type": "code",
      "metadata": {
        "colab": {
          "base_uri": "https://localhost:8080/",
          "height": 369,
          "referenced_widgets": [
            "babcf034f4a04d4bb9a8361de964576a",
            "1749a57cd1634cd9add57d9effbd7725",
            "c25e173a04844f2aa632a0e33ac94c75",
            "7085004039594841ae7123f1f8751eaf",
            "1960295f9fb44599b894d17805733315",
            "5ed04d58b7d3442588e6197f2538b362",
            "f8c44ee1317743bea8fba15784ce9def",
            "c373bf2e52934c699df61de3522a46d1",
            "a2ca18b393d544499b48591cae5620d8",
            "5c1dcfadcada445e82b65f29d7bf4696",
            "3fbc09d9dde2483496380db6aaee82c4",
            "d5ee72999dbd4b48bc165132373319d0",
            "093518833f2b469e9b19455d9798ec7e",
            "f059dff5fee54834bd50251558e5fa56",
            "42d479467a924cd0911a9d68fe653eae",
            "74a4f17513e84f908084c85bfe70bf19"
          ]
        },
        "id": "CjQ5MGyAGE4p",
        "outputId": "53451f83-ec3d-4aa8-c747-c420bce72bb2"
      },
      "source": [
        "VBox([widgets.Label('Select an image:'),btn_upload,btn_run,out_pl,lbl_pred])"
      ],
      "execution_count": null,
      "outputs": [
        {
          "output_type": "display_data",
          "data": {
            "application/vnd.jupyter.widget-view+json": {
              "model_id": "babcf034f4a04d4bb9a8361de964576a",
              "version_minor": 0,
              "version_major": 2
            },
            "text/plain": [
              "VBox(children=(Label(value='Select an image:'), FileUpload(value={}, description='Upload'), Button(description…"
            ]
          },
          "metadata": {}
        },
        {
          "output_type": "display_data",
          "data": {
            "text/html": [
              ""
            ],
            "text/plain": [
              "<IPython.core.display.HTML object>"
            ]
          },
          "metadata": {}
        },
        {
          "output_type": "display_data",
          "data": {
            "text/html": [
              ""
            ],
            "text/plain": [
              "<IPython.core.display.HTML object>"
            ]
          },
          "metadata": {}
        },
        {
          "output_type": "display_data",
          "data": {
            "text/html": [
              ""
            ],
            "text/plain": [
              "<IPython.core.display.HTML object>"
            ]
          },
          "metadata": {}
        },
        {
          "output_type": "display_data",
          "data": {
            "text/html": [
              ""
            ],
            "text/plain": [
              "<IPython.core.display.HTML object>"
            ]
          },
          "metadata": {}
        },
        {
          "output_type": "display_data",
          "data": {
            "text/html": [
              ""
            ],
            "text/plain": [
              "<IPython.core.display.HTML object>"
            ]
          },
          "metadata": {}
        },
        {
          "output_type": "display_data",
          "data": {
            "text/html": [
              ""
            ],
            "text/plain": [
              "<IPython.core.display.HTML object>"
            ]
          },
          "metadata": {}
        },
        {
          "output_type": "display_data",
          "data": {
            "text/html": [
              ""
            ],
            "text/plain": [
              "<IPython.core.display.HTML object>"
            ]
          },
          "metadata": {}
        },
        {
          "output_type": "display_data",
          "data": {
            "text/html": [
              ""
            ],
            "text/plain": [
              "<IPython.core.display.HTML object>"
            ]
          },
          "metadata": {}
        },
        {
          "output_type": "display_data",
          "data": {
            "text/html": [
              ""
            ],
            "text/plain": [
              "<IPython.core.display.HTML object>"
            ]
          },
          "metadata": {}
        },
        {
          "output_type": "display_data",
          "data": {
            "text/html": [
              ""
            ],
            "text/plain": [
              "<IPython.core.display.HTML object>"
            ]
          },
          "metadata": {}
        }
      ]
    }
  ]
}
